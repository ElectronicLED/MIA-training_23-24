{
 "cells": [
  {
   "cell_type": "code",
   "execution_count": 11,
   "id": "1db63fe1",
   "metadata": {},
   "outputs": [],
   "source": [
    "import matplotlib.pyplot as plt\n",
    "from sklearn.linear_model import LinearRegression\n",
    "import numpy as np\n",
    "import pandas as pd"
   ]
  },
  {
   "cell_type": "code",
   "execution_count": 12,
   "id": "d6f3abd5",
   "metadata": {},
   "outputs": [],
   "source": [
    "df = pd.read_csv(\"shrink_ray_dataset.csv\")"
   ]
  },
  {
   "cell_type": "code",
   "execution_count": 13,
   "id": "0d73bfc9",
   "metadata": {},
   "outputs": [
    {
     "data": {
      "text/plain": [
       "<bound method NDFrame.head of       Power   Shrinkage\n",
       "0      0.00        0.00\n",
       "1      1.51        0.00\n",
       "2      3.02        0.00\n",
       "3      4.52        2.67\n",
       "4      6.03        0.00\n",
       "..      ...         ...\n",
       "195  293.97       89.62\n",
       "196  295.48       94.92\n",
       "197  296.98       88.65\n",
       "198  298.49       90.79\n",
       "199  300.00       92.56\n",
       "\n",
       "[200 rows x 2 columns]>"
      ]
     },
     "execution_count": 13,
     "metadata": {},
     "output_type": "execute_result"
    }
   ],
   "source": [
    "df.head"
   ]
  },
  {
   "cell_type": "code",
   "execution_count": 14,
   "id": "61ec0fbd",
   "metadata": {},
   "outputs": [
    {
     "name": "stdout",
     "output_type": "stream",
     "text": [
      "<class 'pandas.core.frame.DataFrame'>\n",
      "RangeIndex: 200 entries, 0 to 199\n",
      "Data columns (total 2 columns):\n",
      " #   Column      Non-Null Count  Dtype  \n",
      "---  ------      --------------  -----  \n",
      " 0   Power       200 non-null    float64\n",
      " 1    Shrinkage  200 non-null    float64\n",
      "dtypes: float64(2)\n",
      "memory usage: 3.2 KB\n"
     ]
    }
   ],
   "source": [
    "df.info()"
   ]
  },
  {
   "cell_type": "code",
   "execution_count": 15,
   "id": "bc8f7555",
   "metadata": {},
   "outputs": [
    {
     "data": {
      "text/plain": [
       "0        0.00\n",
       "1        1.51\n",
       "2        3.02\n",
       "3        4.52\n",
       "4        6.03\n",
       "        ...  \n",
       "195    293.97\n",
       "196    295.48\n",
       "197    296.98\n",
       "198    298.49\n",
       "199    300.00\n",
       "Name: Power, Length: 200, dtype: float64"
      ]
     },
     "execution_count": 15,
     "metadata": {},
     "output_type": "execute_result"
    }
   ],
   "source": [
    "df[\"Power\"]"
   ]
  },
  {
   "cell_type": "code",
   "execution_count": 16,
   "id": "8e91b0f4",
   "metadata": {},
   "outputs": [
    {
     "data": {
      "text/plain": [
       "0       0.00\n",
       "1       0.00\n",
       "2       0.00\n",
       "3       2.67\n",
       "4       0.00\n",
       "       ...  \n",
       "195    89.62\n",
       "196    94.92\n",
       "197    88.65\n",
       "198    90.79\n",
       "199    92.56\n",
       "Name:  Shrinkage, Length: 200, dtype: float64"
      ]
     },
     "execution_count": 16,
     "metadata": {},
     "output_type": "execute_result"
    }
   ],
   "source": [
    "df[\" Shrinkage\"] #there is a space at the begining of the name"
   ]
  },
  {
   "cell_type": "code",
   "execution_count": 17,
   "id": "f48f713a",
   "metadata": {},
   "outputs": [
    {
     "data": {
      "text/plain": [
       "<matplotlib.collections.PathCollection at 0x1a7f3bab850>"
      ]
     },
     "execution_count": 17,
     "metadata": {},
     "output_type": "execute_result"
    },
    {
     "data": {
      "image/png": "[encoded data removed]",
      "text/plain": [
       "<Figure size 432x288 with 1 Axes>"
      ]
     },
     "metadata": {
      "needs_background": "light"
     },
     "output_type": "display_data"
    }
   ],
   "source": [
    "plt.scatter(df[\"Power\"], df[\" Shrinkage\"])"
   ]
  },
  {
   "cell_type": "code",
   "execution_count": 21,
   "id": "74e03970",
   "metadata": {},
   "outputs": [
    {
     "data": {
      "text/plain": [
       "array([  0.  ,   1.51,   3.02,   4.52,   6.03,   7.54,   9.05,  10.55,\n",
       "        12.06,  13.57,  15.08,  16.58,  18.09,  19.6 ,  21.11,  22.61,\n",
       "        24.12,  25.63,  27.14,  28.64,  30.15,  31.66,  33.17,  34.67,\n",
       "        36.18,  37.69,  39.2 ,  40.7 ,  42.21,  43.72,  45.23,  46.73,\n",
       "        48.24,  49.75,  51.26,  52.76,  54.27,  55.78,  57.29,  58.79,\n",
       "        60.3 ,  61.81,  63.32,  64.82,  66.33,  67.84,  69.35,  70.85,\n",
       "        72.36,  73.87,  75.38,  76.88,  78.39,  79.9 ,  81.41,  82.91,\n",
       "        84.42,  85.93,  87.44,  88.94,  90.45,  91.96,  93.47,  94.97,\n",
       "        96.48,  97.99,  99.5 , 101.01, 102.51, 104.02, 105.53, 107.04,\n",
       "       108.54, 110.05, 111.56, 113.07, 114.57, 116.08, 117.59, 119.1 ,\n",
       "       120.6 , 122.11, 123.62, 125.13, 126.63, 128.14, 129.65, 131.16,\n",
       "       132.66, 134.17, 135.68, 137.19, 138.69, 140.2 , 141.71, 143.22,\n",
       "       144.72, 146.23, 147.74, 149.25, 150.75, 152.26, 153.77, 155.28,\n",
       "       156.78, 158.29, 159.8 , 161.31, 162.81, 164.32, 165.83, 167.34,\n",
       "       168.84, 170.35, 171.86, 173.37, 174.87, 176.38, 177.89, 179.4 ,\n",
       "       180.9 , 182.41, 183.92, 185.43, 186.93, 188.44, 189.95, 191.46,\n",
       "       192.96, 194.47, 195.98, 197.49, 198.99, 200.5 , 202.01, 203.52,\n",
       "       205.03, 206.53, 208.04, 209.55, 211.06, 212.56, 214.07, 215.58,\n",
       "       217.09, 218.59, 220.1 , 221.61, 223.12, 224.62, 226.13, 227.64,\n",
       "       229.15, 230.65, 232.16, 233.67, 235.18, 236.68, 238.19, 239.7 ,\n",
       "       241.21, 242.71, 244.22, 245.73, 247.24, 248.74, 250.25, 251.76,\n",
       "       253.27, 254.77, 256.28, 257.79, 259.3 , 260.8 , 262.31, 263.82,\n",
       "       265.33, 266.83, 268.34, 269.85, 271.36, 272.86, 274.37, 275.88,\n",
       "       277.39, 278.89, 280.4 , 281.91, 283.42, 284.92, 286.43, 287.94,\n",
       "       289.45, 290.95, 292.46, 293.97, 295.48, 296.98, 298.49, 300.  ])"
      ]
     },
     "execution_count": 21,
     "metadata": {},
     "output_type": "execute_result"
    }
   ],
   "source": [
    "df[\"Power\"].values"
   ]
  },
  {
   "cell_type": "code",
   "execution_count": 23,
   "id": "58d624b2",
   "metadata": {},
   "outputs": [
    {
     "data": {
      "text/plain": [
       "array([ 0.  ,  0.  ,  0.  ,  2.67,  0.  ,  0.  ,  4.05,  0.7 ,  0.  ,\n",
       "        0.  ,  0.  ,  0.  ,  4.86,  3.4 ,  8.06,  6.37,  4.69,  1.63,\n",
       "        9.44,  9.35,  3.34, 10.58,  2.75,  3.57,  9.01,  8.53,  7.64,\n",
       "       12.07, 14.19,  7.81, 14.48,  9.82, 10.67,  9.94, 12.63, 16.08,\n",
       "       17.63, 19.06, 17.18, 19.62, 14.67, 17.82, 18.25, 14.36, 14.65,\n",
       "       15.94, 18.64, 23.6 , 18.89, 16.6 , 20.85, 24.38, 20.45, 24.12,\n",
       "       24.69, 27.98, 20.39, 21.71, 23.01, 22.93, 21.76, 30.04, 22.6 ,\n",
       "       30.14, 32.11, 24.09, 24.05, 33.39, 29.28, 30.41, 31.53, 28.95,\n",
       "       35.77, 36.3 , 37.44, 29.66, 33.96, 35.49, 29.86, 35.81, 31.2 ,\n",
       "       40.27, 31.68, 33.54, 36.78, 42.59, 36.66, 37.45, 39.56, 41.14,\n",
       "       40.21, 40.93, 39.16, 46.28, 41.41, 38.44, 47.94, 39.44, 49.3 ,\n",
       "       40.3 , 48.35, 41.24, 47.57, 50.89, 43.01, 43.27, 45.11, 44.44,\n",
       "       53.14, 48.9 , 49.03, 52.14, 54.02, 51.75, 50.26, 47.93, 53.2 ,\n",
       "       54.36, 52.74, 55.67, 60.11, 50.67, 54.71, 52.68, 55.14, 62.26,\n",
       "       60.84, 57.79, 58.3 , 62.07, 59.78, 59.95, 62.53, 64.55, 66.62,\n",
       "       62.89, 59.75, 66.81, 66.52, 61.96, 60.35, 66.09, 66.91, 70.61,\n",
       "       71.6 , 70.59, 67.94, 63.59, 67.4 , 71.72, 67.81, 69.48, 72.51,\n",
       "       70.97, 75.7 , 75.28, 74.3 , 71.92, 76.5 , 69.84, 73.94, 74.47,\n",
       "       73.7 , 71.54, 73.45, 73.75, 82.42, 81.25, 80.28, 74.81, 77.12,\n",
       "       81.97, 79.47, 82.59, 81.16, 83.13, 86.54, 81.1 , 86.48, 87.28,\n",
       "       86.01, 88.32, 88.18, 90.15, 86.47, 82.87, 88.8 , 88.2 , 90.65,\n",
       "       85.34, 91.75, 93.97, 89.18, 86.16, 89.17, 89.62, 94.92, 88.65,\n",
       "       90.79, 92.56])"
      ]
     },
     "execution_count": 23,
     "metadata": {},
     "output_type": "execute_result"
    }
   ],
   "source": [
    " df[\" Shrinkage\"].values"
   ]
  },
  {
   "cell_type": "code",
   "execution_count": 33,
   "id": "0356d9ee",
   "metadata": {},
   "outputs": [],
   "source": [
    "X = df.values[: , 0]\n",
    "Y = df.values[: , 1]"
   ]
  },
  {
   "cell_type": "code",
   "execution_count": 35,
   "id": "a2a8a7ae",
   "metadata": {},
   "outputs": [
    {
     "data": {
      "text/plain": [
       "array([ 0.  ,  0.  ,  0.  ,  2.67,  0.  ,  0.  ,  4.05,  0.7 ,  0.  ,\n",
       "        0.  ,  0.  ,  0.  ,  4.86,  3.4 ,  8.06,  6.37,  4.69,  1.63,\n",
       "        9.44,  9.35,  3.34, 10.58,  2.75,  3.57,  9.01,  8.53,  7.64,\n",
       "       12.07, 14.19,  7.81, 14.48,  9.82, 10.67,  9.94, 12.63, 16.08,\n",
       "       17.63, 19.06, 17.18, 19.62, 14.67, 17.82, 18.25, 14.36, 14.65,\n",
       "       15.94, 18.64, 23.6 , 18.89, 16.6 , 20.85, 24.38, 20.45, 24.12,\n",
       "       24.69, 27.98, 20.39, 21.71, 23.01, 22.93, 21.76, 30.04, 22.6 ,\n",
       "       30.14, 32.11, 24.09, 24.05, 33.39, 29.28, 30.41, 31.53, 28.95,\n",
       "       35.77, 36.3 , 37.44, 29.66, 33.96, 35.49, 29.86, 35.81, 31.2 ,\n",
       "       40.27, 31.68, 33.54, 36.78, 42.59, 36.66, 37.45, 39.56, 41.14,\n",
       "       40.21, 40.93, 39.16, 46.28, 41.41, 38.44, 47.94, 39.44, 49.3 ,\n",
       "       40.3 , 48.35, 41.24, 47.57, 50.89, 43.01, 43.27, 45.11, 44.44,\n",
       "       53.14, 48.9 , 49.03, 52.14, 54.02, 51.75, 50.26, 47.93, 53.2 ,\n",
       "       54.36, 52.74, 55.67, 60.11, 50.67, 54.71, 52.68, 55.14, 62.26,\n",
       "       60.84, 57.79, 58.3 , 62.07, 59.78, 59.95, 62.53, 64.55, 66.62,\n",
       "       62.89, 59.75, 66.81, 66.52, 61.96, 60.35, 66.09, 66.91, 70.61,\n",
       "       71.6 , 70.59, 67.94, 63.59, 67.4 , 71.72, 67.81, 69.48, 72.51,\n",
       "       70.97, 75.7 , 75.28, 74.3 , 71.92, 76.5 , 69.84, 73.94, 74.47,\n",
       "       73.7 , 71.54, 73.45, 73.75, 82.42, 81.25, 80.28, 74.81, 77.12,\n",
       "       81.97, 79.47, 82.59, 81.16, 83.13, 86.54, 81.1 , 86.48, 87.28,\n",
       "       86.01, 88.32, 88.18, 90.15, 86.47, 82.87, 88.8 , 88.2 , 90.65,\n",
       "       85.34, 91.75, 93.97, 89.18, 86.16, 89.17, 89.62, 94.92, 88.65,\n",
       "       90.79, 92.56])"
      ]
     },
     "execution_count": 35,
     "metadata": {},
     "output_type": "execute_result"
    }
   ],
   "source": [
    "Y"
   ]
  },
  {
   "cell_type": "code",
   "execution_count": 40,
   "id": "6c2de87a",
   "metadata": {},
   "outputs": [],
   "source": [
    "X = X.reshape(-1, 1) #the model wasnt accepting the original shape\n",
    "model = LinearRegression().fit(X, Y)"
   ]
  },
  {
   "cell_type": "code",
   "execution_count": 59,
   "id": "a4b02fcb",
   "metadata": {},
   "outputs": [
    {
     "data": {
      "text/plain": [
       "array([24.34431126])"
      ]
     },
     "execution_count": 59,
     "metadata": {},
     "output_type": "execute_result"
    }
   ],
   "source": [
    "##Predicting the power that will result in 85 sgrinkage\n",
    "model.predict([[85]])"
   ]
  },
  {
   "cell_type": "code",
   "execution_count": 60,
   "id": "83ab9c19",
   "metadata": {},
   "outputs": [
    {
     "data": {
      "text/plain": [
       "array([ 0.32200598, -3.02619709])"
      ]
     },
     "execution_count": 60,
     "metadata": {},
     "output_type": "execute_result"
    }
   ],
   "source": [
    "reg = np.polyfit(df['Power'], df[' Shrinkage'], deg = 1)\n",
    "reg"
   ]
  },
  {
   "cell_type": "code",
   "execution_count": 58,
   "id": "20a36034",
   "metadata": {},
   "outputs": [
    {
     "data": {
      "text/plain": [
       "[<matplotlib.lines.Line2D at 0x1a7f3d71070>]"
      ]
     },
     "execution_count": 58,
     "metadata": {},
     "output_type": "execute_result"
    },
    {
     "data": {
      "image/png": "[encoded data removed]",
      "text/plain": [
       "<Figure size 432x288 with 1 Axes>"
      ]
     },
     "metadata": {
      "needs_background": "light"
     },
     "output_type": "display_data"
    }
   ],
   "source": [
    "trend = np.polyval(reg, df[\"Power\"])\n",
    "plt.scatter(X, Y, color=\"green\")\n",
    "plt.plot(df[\"Power\"], trend, color = \"red\", linewidth='3')"
   ]
  },
  {
   "cell_type": "markdown",
   "id": "2292ef50",
   "metadata": {},
   "source": [
    "##Training the model"
   ]
  },
  {
   "cell_type": "code",
   "execution_count": null,
   "id": "f0158a9d",
   "metadata": {},
   "outputs": [],
   "source": []
  },
  {
   "cell_type": "code",
   "execution_count": null,
   "id": "76a15f6d",
   "metadata": {},
   "outputs": [],
   "source": []
  },
  {
   "cell_type": "code",
   "execution_count": null,
   "id": "bdee7fd3",
   "metadata": {},
   "outputs": [],
   "source": []
  }
 ],
 "metadata": {
  "kernelspec": {
   "display_name": "Python 3 (ipykernel)",
   "language": "python",
   "name": "python3"
  },
  "language_info": {
   "codemirror_mode": {
    "name": "ipython",
    "version": 3
   },
   "file_extension": ".py",
   "mimetype": "text/x-python",
   "name": "python",
   "nbconvert_exporter": "python",
   "pygments_lexer": "ipython3",
   "version": "3.9.7"
  }
 },
 "nbformat": 4,
 "nbformat_minor": 5
}
